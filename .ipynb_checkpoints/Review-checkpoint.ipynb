{
 "cells": [
  {
   "cell_type": "markdown",
   "metadata": {},
   "source": [
    "# This is my review of python"
   ]
  },
  {
   "cell_type": "markdown",
   "metadata": {},
   "source": [
    "- In this notebook I cover all the python's core chapters\n",
    "- Focus on rapid review using projects\n",
    "\n",
    "\n",
    "**This stills more as a blog/calendar/whitepaper of my review**"
   ]
  },
  {
   "cell_type": "markdown",
   "metadata": {},
   "source": [
    "## Intro"
   ]
  },
  {
   "cell_type": "markdown",
   "metadata": {},
   "source": [
    "**Guessing Game**"
   ]
  },
  {
   "cell_type": "code",
   "execution_count": 4,
   "metadata": {},
   "outputs": [
    {
     "name": "stdout",
     "output_type": "stream",
     "text": [
      "Congrats! You guessed it correctly.\n",
      "It took you 7 guesses!\n"
     ]
    }
   ],
   "source": [
    "from random import randint\n",
    "from IPython.display import clear_output\n",
    "guessed = False\n",
    "number = randint(0, 100)\n",
    "guesses = 0\n",
    "while not guessed:\n",
    "    ans = input(\"Try to guess the number I\\'m thinking of!\")\n",
    "    guesses += 1\n",
    "    clear_output()\n",
    "    if int(ans) == number:\n",
    "        print(\"Congrats! You guessed it correctly.\")\n",
    "        print(f\"It took you {guesses} guesses!\")\n",
    "        break\n",
    "    elif int(ans) > number:\n",
    "        print(\"The number is lower than what you guessed.\")\n",
    "    elif int(ans) < number:\n",
    "        print(\"The number is greater than what you guessed.\")"
   ]
  },
  {
   "cell_type": "markdown",
   "metadata": {},
   "source": [
    "#### But If you are new to programming the first program should be more like:"
   ]
  },
  {
   "cell_type": "code",
   "execution_count": 5,
   "metadata": {},
   "outputs": [
    {
     "name": "stdout",
     "output_type": "stream",
     "text": [
      "My name is John Wick!\n"
     ]
    }
   ],
   "source": [
    "print('My name is John Wick!')"
   ]
  },
  {
   "cell_type": "code",
   "execution_count": 13,
   "metadata": {},
   "outputs": [
    {
     "data": {
      "text/plain": [
       "type"
      ]
     },
     "execution_count": 13,
     "metadata": {},
     "output_type": "execute_result"
    }
   ],
   "source": [
    "type(int)"
   ]
  },
  {
   "cell_type": "code",
   "execution_count": 15,
   "metadata": {},
   "outputs": [
    {
     "name": "stdout",
     "output_type": "stream",
     "text": [
      "3 + 10 = 13\n"
     ]
    }
   ],
   "source": [
    "x = 3\n",
    "y = 10\n",
    "result = x + y\n",
    "print(f\"{x} + {y} = {result}\")"
   ]
  },
  {
   "cell_type": "code",
   "execution_count": 16,
   "metadata": {},
   "outputs": [
    {
     "name": "stdout",
     "output_type": "stream",
     "text": [
      "3 6.7 False Wick\n"
     ]
    }
   ],
   "source": [
    "x = 3\n",
    "y = 6.7\n",
    "b = False\n",
    "s = 'Wick'\n",
    "print(f\"{x} {y} {b} {s}\")"
   ]
  },
  {
   "cell_type": "code",
   "execution_count": 18,
   "metadata": {},
   "outputs": [
    {
     "name": "stdout",
     "output_type": "stream",
     "text": [
      "John's favorite sport is tennis.\n",
      "Wick is working on Python programming!\n"
     ]
    }
   ],
   "source": [
    "name = \"John Wick\"\n",
    "activity = \"tennis\"\n",
    "lang = \"Python\"\n",
    "print(f\"{name[0:4]}\\'s favorite sport is {activity}.\")\n",
    "print(f\"{name[5:9]} is working on {lang} programming!\")"
   ]
  },
  {
   "cell_type": "code",
   "execution_count": 21,
   "metadata": {},
   "outputs": [
    {
     "data": {
      "text/plain": [
       "'UPPERCASE'"
      ]
     },
     "execution_count": 21,
     "metadata": {},
     "output_type": "execute_result"
    }
   ],
   "source": [
    "uper = 'uppercase'\n",
    "uper.upper()"
   ]
  },
  {
   "cell_type": "code",
   "execution_count": 34,
   "metadata": {},
   "outputs": [
    {
     "name": "stdout",
     "output_type": "stream",
     "text": [
      "John Smith\n"
     ]
    }
   ],
   "source": [
    "s = \"@@John Smith\"\n",
    "st = s.lstrip(\"@\")\n",
    "print(st)"
   ]
  },
  {
   "cell_type": "markdown",
   "metadata": {},
   "source": [
    "## Exercise 1 - Receipt Program"
   ]
  },
  {
   "cell_type": "code",
   "execution_count": 62,
   "metadata": {},
   "outputs": [
    {
     "name": "stdout",
     "output_type": "stream",
     "text": [
      "**************************************************\n",
      "\t\tAmazon, Inc.\n",
      "\t\t263 San Joseph St.\n",
      "\t\tBoston, MA\n",
      "--------------------------------------------------\n",
      "\tProduct Name\tProduct Price\n",
      "\tBooks\t\t$40.5\n",
      "\tComputer\t$549.99\n",
      "\tMonitor\t\t$129.89\n",
      "--------------------------------------------------\n",
      "\t\t\tTotal\n",
      "\t\t\t$720.38\n",
      "--------------------------------------------------\n",
      "\n",
      "\tThanks for shopping with us!\n",
      "\n",
      "**************************************************\n"
     ]
    }
   ],
   "source": [
    "# Create products and prices\n",
    "p1_name, p1_price = \"Books\", 40.5\n",
    "p2_name, p2_price = \"Computer\", 549.99\n",
    "p3_name, p3_price = \"Monitor\", 129.89\n",
    "\n",
    "# Company name and information\n",
    "company_name = 'Amazon, inc.'\n",
    "company_address = '263 San Joseph St.'\n",
    "company_city = \"Boston, MA\"\n",
    "\n",
    "# Message\n",
    "message = \"Thanks for shopping with us!\"\n",
    "\n",
    "# Top border\n",
    "print(\"*\"*50)\n",
    "\n",
    "# Company information\n",
    "print('\\t\\t{}'.format(company_name.title()))\n",
    "print('\\t\\t{}'.format(company_address))\n",
    "print('\\t\\t{}'.format(company_city))\n",
    "\n",
    "#line\n",
    "print(\"-\"*50)\n",
    "\n",
    "# Items Header\n",
    "print(\"\\tProduct Name\\tProduct Price\")\n",
    "\n",
    "#statement for products\n",
    "print(\"\\t{}\\t\\t${}\".format(p1_name.title(), p1_price))\n",
    "print(\"\\t{}\\t${}\".format(p2_name.title(), p2_price))\n",
    "print(\"\\t{}\\t\\t${}\".format(p3_name.title(), p3_price))\n",
    "\n",
    "#line\n",
    "print(\"-\"*50)\n",
    "\n",
    "#total\n",
    "print(\"\\t\\t\\tTotal\")\n",
    "\n",
    "#calculate total\n",
    "total = p1_price + p2_price + p3_price\n",
    "print(\"\\t\\t\\t${}\".format(total))\n",
    "\n",
    "#line\n",
    "print('-'*50)\n",
    "\n",
    "#Message\n",
    "print(\"\\n\\t{}\\n\".format(message))\n",
    "\n",
    "#Bottom Border\n",
    "print(\"*\"*50)"
   ]
  },
  {
   "cell_type": "markdown",
   "metadata": {},
   "source": [
    "**This is what you can do when you starting your coding Journey. You may start thinking about how can I model -with all the built in functionallities I got- basic things in the real world, this is a tip for someone strats from scratch/zero**"
   ]
  },
  {
   "cell_type": "markdown",
   "metadata": {},
   "source": [
    "## User Input and Conditionals"
   ]
  },
  {
   "cell_type": "markdown",
   "metadata": {},
   "source": [
    "**Lets start again with basics for people that starting out from scratch**"
   ]
  },
  {
   "cell_type": "code",
   "execution_count": null,
   "metadata": {},
   "outputs": [],
   "source": [
    "st = \"True\"\n",
    "st_b = bool(st)\n",
    "type(st_b)"
   ]
  },
  {
   "cell_type": "code",
   "execution_count": null,
   "metadata": {},
   "outputs": [],
   "source": [
    "x, y = input(\"Give two numbers: \"), input()\n",
    "print(float(x)+float(y))"
   ]
  },
  {
   "cell_type": "code",
   "execution_count": null,
   "metadata": {},
   "outputs": [],
   "source": [
    "year, make, model, color = input('Give the year of your car: '), input('Give the make of your car: '), input('Give the model of your car: '), input('Give the color of your car: ')\n",
    "print(\"{}\\t{}\\t{}\\t{}\".format(year, make, model, color))"
   ]
  },
  {
   "cell_type": "markdown",
   "metadata": {},
   "source": [
    "**Lets built on top of what we see**"
   ]
  },
  {
   "cell_type": "code",
   "execution_count": null,
   "metadata": {
    "scrolled": true
   },
   "outputs": [],
   "source": [
    "import re\n",
    "user_input = input('Give an input text:')\n",
    "x  = re.findall('es', user_input)\n",
    "print(len(x))"
   ]
  },
  {
   "cell_type": "code",
   "execution_count": null,
   "metadata": {},
   "outputs": [],
   "source": [
    "user_input = input('Give a word:')\n",
    "if user_input[-3:] == 'ing':\n",
    "    print('It has ing!')"
   ]
  },
  {
   "cell_type": "code",
   "execution_count": null,
   "metadata": {},
   "outputs": [],
   "source": []
  }
 ],
 "metadata": {
  "kernelspec": {
   "display_name": "Python 3",
   "language": "python",
   "name": "python3"
  },
  "language_info": {
   "codemirror_mode": {
    "name": "ipython",
    "version": 3
   },
   "file_extension": ".py",
   "mimetype": "text/x-python",
   "name": "python",
   "nbconvert_exporter": "python",
   "pygments_lexer": "ipython3",
   "version": "3.7.3"
  }
 },
 "nbformat": 4,
 "nbformat_minor": 2
}
