{
 "cells": [
  {
   "cell_type": "markdown",
   "metadata": {},
   "source": [
    "# This is my review of python"
   ]
  },
  {
   "cell_type": "markdown",
   "metadata": {},
   "source": [
    "- In this notebook I cover all the python's core chapters\n",
    "- Focus on rapid review using projects\n",
    "\n",
    "\n",
    "**This stills more as a blog/calendar/whitepaper of my review**"
   ]
  },
  {
   "cell_type": "markdown",
   "metadata": {},
   "source": [
    "## Intro"
   ]
  },
  {
   "cell_type": "markdown",
   "metadata": {},
   "source": [
    "**Guessing Game**"
   ]
  },
  {
   "cell_type": "code",
   "execution_count": 4,
   "metadata": {},
   "outputs": [
    {
     "name": "stdout",
     "output_type": "stream",
     "text": [
      "Congrats! You guessed it correctly.\n",
      "It took you 7 guesses!\n"
     ]
    }
   ],
   "source": [
    "from random import randint\n",
    "from IPython.display import clear_output\n",
    "guessed = False\n",
    "number = randint(0, 100)\n",
    "guesses = 0\n",
    "while not guessed:\n",
    "    ans = input(\"Try to guess the number I\\'m thinking of!\")\n",
    "    guesses += 1\n",
    "    clear_output()\n",
    "    if int(ans) == number:\n",
    "        print(\"Congrats! You guessed it correctly.\")\n",
    "        print(f\"It took you {guesses} guesses!\")\n",
    "        break\n",
    "    elif int(ans) > number:\n",
    "        print(\"The number is lower than what you guessed.\")\n",
    "    elif int(ans) < number:\n",
    "        print(\"The number is greater than what you guessed.\")"
   ]
  },
  {
   "cell_type": "markdown",
   "metadata": {},
   "source": [
    "#### But If you are new to programming the first program should be more like:"
   ]
  },
  {
   "cell_type": "code",
   "execution_count": 5,
   "metadata": {},
   "outputs": [
    {
     "name": "stdout",
     "output_type": "stream",
     "text": [
      "My name is John Wick!\n"
     ]
    }
   ],
   "source": [
    "print('My name is John Wick!')"
   ]
  },
  {
   "cell_type": "code",
   "execution_count": 13,
   "metadata": {},
   "outputs": [
    {
     "data": {
      "text/plain": [
       "type"
      ]
     },
     "execution_count": 13,
     "metadata": {},
     "output_type": "execute_result"
    }
   ],
   "source": [
    "type(int)"
   ]
  },
  {
   "cell_type": "code",
   "execution_count": 15,
   "metadata": {},
   "outputs": [
    {
     "name": "stdout",
     "output_type": "stream",
     "text": [
      "3 + 10 = 13\n"
     ]
    }
   ],
   "source": [
    "x = 3\n",
    "y = 10\n",
    "result = x + y\n",
    "print(f\"{x} + {y} = {result}\")"
   ]
  },
  {
   "cell_type": "code",
   "execution_count": 16,
   "metadata": {},
   "outputs": [
    {
     "name": "stdout",
     "output_type": "stream",
     "text": [
      "3 6.7 False Wick\n"
     ]
    }
   ],
   "source": [
    "x = 3\n",
    "y = 6.7\n",
    "b = False\n",
    "s = 'Wick'\n",
    "print(f\"{x} {y} {b} {s}\")"
   ]
  },
  {
   "cell_type": "code",
   "execution_count": 18,
   "metadata": {},
   "outputs": [
    {
     "name": "stdout",
     "output_type": "stream",
     "text": [
      "John's favorite sport is tennis.\n",
      "Wick is working on Python programming!\n"
     ]
    }
   ],
   "source": [
    "name = \"John Wick\"\n",
    "activity = \"tennis\"\n",
    "lang = \"Python\"\n",
    "print(f\"{name[0:4]}\\'s favorite sport is {activity}.\")\n",
    "print(f\"{name[5:9]} is working on {lang} programming!\")"
   ]
  },
  {
   "cell_type": "code",
   "execution_count": 21,
   "metadata": {},
   "outputs": [
    {
     "data": {
      "text/plain": [
       "'UPPERCASE'"
      ]
     },
     "execution_count": 21,
     "metadata": {},
     "output_type": "execute_result"
    }
   ],
   "source": [
    "uper = 'uppercase'\n",
    "uper.upper()"
   ]
  },
  {
   "cell_type": "code",
   "execution_count": 34,
   "metadata": {},
   "outputs": [
    {
     "name": "stdout",
     "output_type": "stream",
     "text": [
      "John Smith\n"
     ]
    }
   ],
   "source": [
    "s = \"@@John Smith\"\n",
    "st = s.lstrip(\"@\")\n",
    "print(st)"
   ]
  },
  {
   "cell_type": "markdown",
   "metadata": {},
   "source": [
    "## Exercise 1 - Receipt Program"
   ]
  },
  {
   "cell_type": "code",
   "execution_count": 55,
   "metadata": {},
   "outputs": [
    {
     "name": "stdout",
     "output_type": "stream",
     "text": [
      "*************************************************\n",
      "*\t\tAmazon, Inc.\t\t\t*\n",
      "*\t\t263 San Joseph St.\t\t*\n",
      "*\t\tBoston, MA\t\t\t*\n",
      "-------------------------------------------------\n",
      "*\tProduct Name\tProduct Price\t\t*\n",
      "*\tBooks\t\t$40.5\t\t\t*\n",
      "*\tComputer\t$549.99\t\t\t*\n",
      "*\tMonitor\t\t$129.89\t\t\t*\n",
      "--------------------------------------------------\n",
      "*\t\t\tTotal\t\t\t*\n",
      "*\t\t\t$720.38\t\t\t*\n",
      "--------------------------------------------------\n",
      "\n",
      "\tThanks for shopping with us!\t\t\n",
      "\n",
      "**************************************************\n"
     ]
    }
   ],
   "source": [
    "# Create products and prices\n",
    "p1_name, p1_price = \"Books\", 40.5\n",
    "p2_name, p2_price = \"Computer\", 549.99\n",
    "p3_name, p3_price = \"Monitor\", 129.89\n",
    "\n",
    "# Company name and information\n",
    "company_name = 'Amazon, inc.'\n",
    "company_address = '263 San Joseph St.'\n",
    "company_city = \"Boston, MA\"\n",
    "\n",
    "# Message\n",
    "message = \"Thanks for shopping with us!\"\n",
    "\n",
    "# Top border\n",
    "print(\"*\"*49)\n",
    "\n",
    "# Company information\n",
    "print('*\\t\\t{}\\t\\t\\t*'.format(company_name.title()))\n",
    "print('*\\t\\t{}\\t\\t*'.format(company_address))\n",
    "print('*\\t\\t{}\\t\\t\\t*'.format(company_city))\n",
    "\n",
    "#line\n",
    "print(\"-\"*49)\n",
    "\n",
    "# Items Header\n",
    "print(\"*\\tProduct Name\\tProduct Price\\t\\t*\")\n",
    "\n",
    "#statement for products\n",
    "print(\"*\\t{}\\t\\t${}\\t\\t\\t*\".format(p1_name.title(), p1_price))\n",
    "print(\"*\\t{}\\t${}\\t\\t\\t*\".format(p2_name.title(), p2_price))\n",
    "print(\"*\\t{}\\t\\t${}\\t\\t\\t*\".format(p3_name.title(), p3_price))\n",
    "\n",
    "#line\n",
    "print(\"-\"*50)\n",
    "\n",
    "#total\n",
    "print(\"*\\t\\t\\tTotal\\t\\t\\t*\")\n",
    "\n",
    "#calculate total\n",
    "total = p1_price + p2_price + p3_price\n",
    "print(\"*\\t\\t\\t${}\\t\\t\\t*\".format(total))\n",
    "\n",
    "#line\n",
    "print('-'*50)\n",
    "\n",
    "#Message\n",
    "print(\"\\n\\t{}\\t\\t\\n\".format(message))\n",
    "\n",
    "#Bottom Border\n",
    "print(\"*\"*50)"
   ]
  },
  {
   "cell_type": "markdown",
   "metadata": {},
   "source": [
    "**This is what you can do when you starting your coding Journey. You may start thinking about how can I model -with all the built in functionallities I got- basic things in the real world, this is a tip for someone strats from scratch/zero**"
   ]
  },
  {
   "cell_type": "markdown",
   "metadata": {},
   "source": [
    "## User Input and Conditionals"
   ]
  },
  {
   "cell_type": "markdown",
   "metadata": {},
   "source": [
    "**Lets start again with basics for people that starting out from scratch**"
   ]
  },
  {
   "cell_type": "code",
   "execution_count": null,
   "metadata": {},
   "outputs": [],
   "source": [
    "st = \"True\"\n",
    "st_b = bool(st)\n",
    "type(st_b)"
   ]
  },
  {
   "cell_type": "code",
   "execution_count": null,
   "metadata": {},
   "outputs": [],
   "source": [
    "x, y = input(\"Give two numbers: \"), input()\n",
    "print(float(x)+float(y))"
   ]
  },
  {
   "cell_type": "code",
   "execution_count": null,
   "metadata": {},
   "outputs": [],
   "source": [
    "year, make, model, color = input('Give the year of your car: '), input('Give the make of your car: '), input('Give the model of your car: '), input('Give the color of your car: ')\n",
    "print(\"{}\\t{}\\t{}\\t{}\".format(year, make, model, color))"
   ]
  },
  {
   "cell_type": "markdown",
   "metadata": {},
   "source": [
    "**Lets built on top of what we see**"
   ]
  },
  {
   "cell_type": "code",
   "execution_count": null,
   "metadata": {
    "scrolled": true
   },
   "outputs": [],
   "source": [
    "import re\n",
    "user_input = input('Give an input text:')\n",
    "x  = re.findall('es', user_input)\n",
    "print(len(x))"
   ]
  },
  {
   "cell_type": "code",
   "execution_count": null,
   "metadata": {},
   "outputs": [],
   "source": [
    "user_input = input('Give a word:')\n",
    "if user_input[-3:] == 'ing':\n",
    "    print('It has ing!')"
   ]
  },
  {
   "cell_type": "code",
   "execution_count": 56,
   "metadata": {},
   "outputs": [
    {
     "name": "stdin",
     "output_type": "stream",
     "text": [
      "Give a word:  word\n",
      "Give a word:  WoRd\n"
     ]
    },
    {
     "name": "stdout",
     "output_type": "stream",
     "text": [
      "You provide the same word two times...\n"
     ]
    }
   ],
   "source": [
    "a1, a2 = input('Give a word: '), input('Give a word: ')\n",
    "if a1.lower() == a2.lower():\n",
    "    print('You provide the same word two times...')"
   ]
  },
  {
   "cell_type": "code",
   "execution_count": 59,
   "metadata": {},
   "outputs": [
    {
     "name": "stdin",
     "output_type": "stream",
     "text": [
      "Give a number:  3\n"
     ]
    },
    {
     "name": "stdout",
     "output_type": "stream",
     "text": [
      "9\n"
     ]
    }
   ],
   "source": [
    "num = input('Give a number: ')\n",
    "if int(num) < 10:\n",
    "    print(int(num)**2)"
   ]
  },
  {
   "cell_type": "code",
   "execution_count": 60,
   "metadata": {},
   "outputs": [
    {
     "name": "stdin",
     "output_type": "stream",
     "text": [
      "Input an integer number:  99\n"
     ]
    },
    {
     "name": "stdout",
     "output_type": "stream",
     "text": [
      "It is lower than 100\n"
     ]
    }
   ],
   "source": [
    "num = int(input('Input an integer number: '))\n",
    "if num > 100:\n",
    "    print('It is Higher than 100')\n",
    "elif num < 100:\n",
    "    print(\"It is lower than 100\")\n",
    "else:\n",
    "    print(\"It is 100\")"
   ]
  },
  {
   "cell_type": "code",
   "execution_count": 61,
   "metadata": {},
   "outputs": [
    {
     "name": "stdout",
     "output_type": "stream",
     "text": [
      "Lower\n"
     ]
    }
   ],
   "source": [
    "x, y = 5, 10\n",
    "if x > y:\n",
    "    print(\"Greater\")\n",
    "elif x < y:\n",
    "    print(\"Lower\")"
   ]
  },
  {
   "cell_type": "code",
   "execution_count": 67,
   "metadata": {},
   "outputs": [
    {
     "name": "stdin",
     "output_type": "stream",
     "text": [
      " jOhn\n"
     ]
    },
    {
     "name": "stdout",
     "output_type": "stream",
     "text": [
      "Hello Johnny\n"
     ]
    }
   ],
   "source": [
    "name = input()\n",
    "if name.capitalize() == \"Jack\":\n",
    "    print(\"Hello Jackie\")\n",
    "elif name.capitalize() == \"John\":\n",
    "    print(\"Hello Johnny\")\n",
    "else:\n",
    "    print(f\"Hello {name.capitalize()}\")"
   ]
  },
  {
   "cell_type": "code",
   "execution_count": 70,
   "metadata": {
    "scrolled": true
   },
   "outputs": [
    {
     "name": "stdin",
     "output_type": "stream",
     "text": [
      "Give the time of the day in mil time:  1000\n"
     ]
    },
    {
     "name": "stdout",
     "output_type": "stream",
     "text": [
      "Good Morning\n"
     ]
    }
   ],
   "source": [
    "military_time = int(input(\"Give the time of the day in mil time: \"))\n",
    "if military_time < 1200:\n",
    "    print(\"Good Morning\")\n",
    "elif military_time >= 1200 and military_time < 1700:\n",
    "    print(\"Good Afternoon\")\n",
    "elif military_time >= 1700:\n",
    "    print(\"Good Evening\")\n"
   ]
  },
  {
   "cell_type": "markdown",
   "metadata": {},
   "source": [
    "## Exercise 2 - Basic Calculator"
   ]
  },
  {
   "cell_type": "code",
   "execution_count": 7,
   "metadata": {},
   "outputs": [
    {
     "name": "stdin",
     "output_type": "stream",
     "text": [
      "Please provide the calculation you want to run:  +\n",
      "Give x:  1\n",
      "Give y:  23\n"
     ]
    },
    {
     "name": "stdout",
     "output_type": "stream",
     "text": [
      "1.0 + 23.0 = 24.0\n"
     ]
    }
   ],
   "source": [
    "calculation = input(\"Please provide the calculation you want to run: \")\n",
    "x, y = input(\"Give x: \"), input(\"Give y: \")\n",
    "try:\n",
    "    if calculation == '+':\n",
    "        print(f\"{float(x)} + {float(y)} = {float(x)+float(y)}\")\n",
    "    elif calculation == '*' or calculation == 'x':\n",
    "        print(f\"{float(x)} x {float(y)} = {float(x) * float(y)}\")\n",
    "    elif calculation == '/' or calculation == ':':\n",
    "        print(f\"{float(x)} : {float(y)} = {float(x)/float(y)}\")\n",
    "    elif calculation == '-':\n",
    "        print(f\"{float(x)} - {float(y)} = {float(x) - float(y)}\")\n",
    "    else:\n",
    "        print(\"Sorry but '{}' is not an option.\".format(calculation))\n",
    "except:\n",
    "    print('Error: Improper Numbers used. Try Again.')"
   ]
  },
  {
   "cell_type": "markdown",
   "metadata": {},
   "source": [
    "**This is not super but it is what you can have with only basic staff. Let's go and deep dive a little more deeper to catch up with other things we are missing because we must run towards more extreme tools. But before that lets see saome examples of what we can do with all of that staff we learn.**"
   ]
  },
  {
   "cell_type": "code",
   "execution_count": 8,
   "metadata": {},
   "outputs": [
    {
     "name": "stdin",
     "output_type": "stream",
     "text": [
      "Give your age:  77\n"
     ]
    },
    {
     "name": "stdout",
     "output_type": "stream",
     "text": [
      "Senior\n"
     ]
    }
   ],
   "source": [
    "age = input(\"Give your age: \")\n",
    "if int(age) > 0 and int(age) <= 12:\n",
    "    print(\"kid\")\n",
    "elif int(age) > 12 and int(age) <= 19:\n",
    "    print(\"teen\")\n",
    "elif int(age) > 19 and int(age) <= 30:\n",
    "    print(\"Young\")\n",
    "elif int(age) > 30 and int(age) <= 64:\n",
    "    print(\"Adult\")\n",
    "elif int(age) > 64:\n",
    "    print(\"Senior\")"
   ]
  },
  {
   "cell_type": "markdown",
   "metadata": {},
   "source": [
    "## Lists and Loops"
   ]
  },
  {
   "cell_type": "code",
   "execution_count": 14,
   "metadata": {
    "scrolled": true
   },
   "outputs": [
    {
     "name": "stdout",
     "output_type": "stream",
     "text": [
      "I like to play tennis\n",
      "I like to play football\n",
      "I like to play baseball\n",
      "I like to play golf\n",
      "I like to play basketball\n"
     ]
    }
   ],
   "source": [
    "list_of_sports = [\"tennis\", \"football\", \"baseball\", \"golf\", \"basketball\"]\n",
    "print(\"I like to play {}\".format(list_of_sports[0]))\n",
    "print(\"I like to play {}\".format(list_of_sports[1]))\n",
    "print(\"I like to play {}\".format(list_of_sports[2]))\n",
    "print(\"I like to play {}\".format(list_of_sports[3]))\n",
    "print(\"I like to play {}\".format(list_of_sports[4]))"
   ]
  },
  {
   "cell_type": "code",
   "execution_count": 16,
   "metadata": {},
   "outputs": [
    {
     "name": "stdout",
     "output_type": "stream",
     "text": [
      "J A S K\n"
     ]
    }
   ],
   "source": [
    "list_of_words = ['John','Adam', 'Sam', 'Kelly']\n",
    "print(list_of_words[0][0], list_of_words[1][0], list_of_words[2][0], list_of_words[3][0])\n"
   ]
  },
  {
   "cell_type": "code",
   "execution_count": 24,
   "metadata": {},
   "outputs": [
    {
     "name": "stdout",
     "output_type": "stream",
     "text": [
      "3\n",
      "6\n",
      "9\n"
     ]
    }
   ],
   "source": [
    "for i in range(10):\n",
    "    if i%3 == 0:\n",
    "        if i == 0:\n",
    "            continue\n",
    "        print(i)"
   ]
  },
  {
   "cell_type": "code",
   "execution_count": 23,
   "metadata": {},
   "outputs": [
    {
     "name": "stdin",
     "output_type": "stream",
     "text": [
      " hello\n"
     ]
    },
    {
     "name": "stdout",
     "output_type": "stream",
     "text": [
      "eo\n"
     ]
    }
   ],
   "source": [
    "user_input = input()\n",
    "v = ''\n",
    "for i in user_input:\n",
    "    if i == 'a' or i == 'e' or i == 'i' or i == 'o' or i == 'u':\n",
    "        v += i\n",
    "print(v)"
   ]
  },
  {
   "cell_type": "code",
   "execution_count": 2,
   "metadata": {},
   "outputs": [
    {
     "name": "stdin",
     "output_type": "stream",
     "text": [
      "Give input s\n",
      "Give input d\n",
      "Give input f\n",
      "Give input r\n",
      "Give input s\n",
      "Give input quit\n"
     ]
    }
   ],
   "source": [
    "user_input = 'start'\n",
    "while not user_input == 'quit':\n",
    "    user_input = input('Give input')"
   ]
  },
  {
   "cell_type": "code",
   "execution_count": 7,
   "metadata": {},
   "outputs": [
    {
     "name": "stdout",
     "output_type": "stream",
     "text": [
      "0\n",
      "1\n",
      "2\n"
     ]
    }
   ],
   "source": [
    "game_over = False\n",
    "while not game_over:\n",
    "    for i in range(0, 5):\n",
    "        if i == 3:\n",
    "            game_over = True\n",
    "            break\n",
    "        print(i)"
   ]
  },
  {
   "cell_type": "code",
   "execution_count": 15,
   "metadata": {},
   "outputs": [
    {
     "name": "stdout",
     "output_type": "stream",
     "text": [
      "['Amanda', 'Bob', 'Kenny']\n"
     ]
    }
   ],
   "source": [
    "names = ['Bob','Kenny','Amanda','Bob','Kenny']\n",
    "for name in names:\n",
    "    n = names.count(name)\n",
    "    if n > 1:\n",
    "        names.remove(name)\n",
    "print(names)"
   ]
  },
  {
   "cell_type": "code",
   "execution_count": 16,
   "metadata": {},
   "outputs": [
    {
     "name": "stdin",
     "output_type": "stream",
     "text": [
      "Give a word:  hello\n",
      "Give a word:  basket\n",
      "Give a word:  orange\n",
      "Give a word:  quit\n"
     ]
    },
    {
     "name": "stdout",
     "output_type": "stream",
     "text": [
      "hello\n",
      "basket\n",
      "orange\n"
     ]
    }
   ],
   "source": [
    "words = []\n",
    "over = False\n",
    "while not over:\n",
    "    user_word = input(\"Give a word: \")\n",
    "    if user_word == 'quit':\n",
    "        break\n",
    "    words.append(user_word)\n",
    "for w in words:\n",
    "    print(w)\n"
   ]
  },
  {
   "cell_type": "markdown",
   "metadata": {},
   "source": [
    "**There are many built in functions we can use on lists and with loops, when a problem occurs there is a built in function can solve the problem. If you want to check all the built in functions you have to check them out on the web. For now lets go to do an exercise**"
   ]
  },
  {
   "cell_type": "markdown",
   "metadata": {},
   "source": [
    "## Exercise 3 - Hangman"
   ]
  },
  {
   "cell_type": "code",
   "execution_count": null,
   "metadata": {},
   "outputs": [],
   "source": [
    "import random as r\n",
    "\n",
    "life = 3\n",
    "list_of_words = ['soccer', 'volley', 'house', 'red', 'yellow', 'green', 'blue', 'football', 'goat', 'physics', 'chemistry']\n",
    "cpu_word = list_of_words[r.randint(0, len(list_of_words) - 1)]\n",
    "word = ['_'] * len(cpu_word)\n",
    "\n",
    "while life > 0:\n",
    "    guess = input('Input a letter: ')\n",
    "    if guess == 'quit':\n",
    "        life = 0\n",
    "        print('You quit!')\n",
    "    if guess in cpu_word:\n",
    "        for i, letter in enumerate(cpu_word):\n",
    "            if letter == guess:\n",
    "                word[i] = guess\n",
    "    else:\n",
    "        life -= 1\n",
    "    print(' '.join(word))\n",
    "\n",
    "    if '_' not in word:\n",
    "        print(\"Congratulations! You've guessed the word!\")\n",
    "        break\n",
    "else:\n",
    "    print(\"Out of lives. The word was:\", cpu_word)"
   ]
  },
  {
   "cell_type": "markdown",
   "metadata": {},
   "source": [
    "**After these basic staff we learn here you got the knowledge to build every algorithm in the wild. But Furthermore we got to explain a little bit about functional programming before we go to the big guns of OOP**"
   ]
  },
  {
   "cell_type": "markdown",
   "metadata": {},
   "source": [
    "## Functions"
   ]
  },
  {
   "cell_type": "markdown",
   "metadata": {},
   "source": [
    "**Let's start again with basics**"
   ]
  },
  {
   "cell_type": "code",
   "execution_count": 1,
   "metadata": {},
   "outputs": [
    {
     "name": "stdout",
     "output_type": "stream",
     "text": [
      "John Wick\n"
     ]
    }
   ],
   "source": [
    "def myName():\n",
    "    print(\"John Wick\")\n",
    "myName()"
   ]
  },
  {
   "cell_type": "code",
   "execution_count": 3,
   "metadata": {},
   "outputs": [
    {
     "data": {
      "text/plain": [
       "['pepperoni', 'supreme', 'BBQ Meatlovers', 'Garlic Butter Prawns and Chilli']"
      ]
     },
     "execution_count": 3,
     "metadata": {},
     "output_type": "execute_result"
    }
   ],
   "source": [
    "def pizzaToppings():\n",
    "    toppings = ['pepperoni', 'supreme', 'BBQ Meatlovers', 'Garlic Butter Prawns and Chilli']\n",
    "    return toppings\n",
    "pizzaToppings()"
   ]
  },
  {
   "cell_type": "code",
   "execution_count": 7,
   "metadata": {},
   "outputs": [
    {
     "name": "stdin",
     "output_type": "stream",
     "text": [
      "Give a word:  john\n"
     ]
    },
    {
     "data": {
      "text/plain": [
       "False"
      ]
     },
     "execution_count": 7,
     "metadata": {},
     "output_type": "execute_result"
    }
   ],
   "source": [
    "user_input = input('Give a word: ')\n",
    "def check_cap(word):\n",
    "    if word == word.capitalize():\n",
    "        return True\n",
    "    else:\n",
    "        return False\n",
    "check_cap(word = user_input)"
   ]
  },
  {
   "cell_type": "code",
   "execution_count": 8,
   "metadata": {},
   "outputs": [
    {
     "name": "stdout",
     "output_type": "stream",
     "text": [
      "No name passed in\n",
      "John\n",
      "Wick\n",
      "John Wick\n"
     ]
    }
   ],
   "source": [
    "def no_name(first_name = \"\", last_name = \"\"):\n",
    "    if first_name and last_name:\n",
    "        print(first_name, last_name)\n",
    "    elif last_name:\n",
    "        print(last_name)\n",
    "    elif first_name:\n",
    "        print(first_name)\n",
    "    else:\n",
    "        print(\"No name passed in\")\n",
    "no_name()\n",
    "no_name(first_name = \"John\")\n",
    "no_name(last_name = \"Wick\")\n",
    "no_name(first_name = \"John\", last_name = \"Wick\")"
   ]
  },
  {
   "cell_type": "code",
   "execution_count": 9,
   "metadata": {},
   "outputs": [
    {
     "data": {
      "text/plain": [
       "'John Wick'"
      ]
     },
     "execution_count": 9,
     "metadata": {},
     "output_type": "execute_result"
    }
   ],
   "source": [
    "def fullname(first_name, last_name):\n",
    "    return first_name + \" \" + last_name\n",
    "fullname('John', 'Wick')"
   ]
  },
  {
   "cell_type": "code",
   "execution_count": 12,
   "metadata": {},
   "outputs": [
    {
     "name": "stdin",
     "output_type": "stream",
     "text": [
      "Give a word:  Hello\n"
     ]
    },
    {
     "name": "stdout",
     "output_type": "stream",
     "text": [
      "User says, Hello\n"
     ]
    }
   ],
   "source": [
    "def user_input():\n",
    "    user = input('Give a word: ')\n",
    "    return user\n",
    "user_says = user_input()\n",
    "print(f'User says, {user_says}')"
   ]
  },
  {
   "cell_type": "code",
   "execution_count": 1,
   "metadata": {},
   "outputs": [
    {
     "name": "stdout",
     "output_type": "stream",
     "text": [
      "['Bob', 'Bill', 'Amanda']\n"
     ]
    }
   ],
   "source": [
    "names = ['Bob', 'Rich', 'Amanda']\n",
    "def changeValue(aList, name, index):\n",
    "    aList[index] = name\n",
    "changeValue(aList = names, name = 'Bill', index = 1)\n",
    "print(names)"
   ]
  },
  {
   "cell_type": "markdown",
   "metadata": {},
   "source": [
    "## Exercise 4 - Shopping Cart"
   ]
  },
  {
   "cell_type": "code",
   "execution_count": 2,
   "metadata": {},
   "outputs": [
    {
     "name": "stdin",
     "output_type": "stream",
     "text": [
      "What you want: \n",
      "                                    1. Add Item\n",
      "                                    2. Remove Item\n",
      "                                    3. Clear List\n",
      "                                    4. Show List\n",
      "                                    5. Quit Shopping\n",
      "     5\n"
     ]
    },
    {
     "name": "stdout",
     "output_type": "stream",
     "text": [
      "Thank you for choosing us!\n"
     ]
    }
   ],
   "source": [
    "start = True\n",
    "cart = []\n",
    "\n",
    "def add(cart):\n",
    "    item = input(\"What do you want to add: \")\n",
    "    cart.append(item)\n",
    "\n",
    "def remove(cart):\n",
    "    r_item = input(\"What do you want to remove: \")\n",
    "    if r_item in cart:\n",
    "        cart.remove(r_item)\n",
    "    else:\n",
    "        print(\"Item not found.\")\n",
    "\n",
    "def c_list(cart):\n",
    "    cart.clear()\n",
    "    print(\"Cleared!\")\n",
    "\n",
    "def show_list(cart):\n",
    "    print('----------------------')\n",
    "    print(cart)\n",
    "    print('----------------------')\n",
    "\n",
    "def quit_shopping():\n",
    "    global start\n",
    "    print(\"Thank you for choosing us!\")\n",
    "    start = False\n",
    "\n",
    "def main():\n",
    "    while start:\n",
    "        user_input = input(\"\"\"What you want: \n",
    "                                    1. Add Item\n",
    "                                    2. Remove Item\n",
    "                                    3. Clear List\n",
    "                                    4. Show List\n",
    "                                    5. Quit Shopping\n",
    "    \"\"\")\n",
    "        if user_input == '1':\n",
    "            add(cart)\n",
    "        elif user_input == '2':\n",
    "            remove(cart)\n",
    "        elif user_input == '3':\n",
    "            c_list(cart)\n",
    "        elif user_input == '4':\n",
    "            show_list(cart)\n",
    "        elif user_input == '5':\n",
    "            quit_shopping()\n",
    "            break \n",
    "main()"
   ]
  },
  {
   "cell_type": "markdown",
   "metadata": {},
   "source": [
    "## Data Collections and Files"
   ]
  },
  {
   "cell_type": "markdown",
   "metadata": {},
   "source": [
    "**Let's see data in other way than that we've just already seen. Let's see Data organized in forms of Collections and files as well with the use of some other data structures and file formats, so we can handle the data differently. Let's start with the basics.**"
   ]
  },
  {
   "cell_type": "markdown",
   "metadata": {},
   "source": [
    "**Lets play with Dictionaries**"
   ]
  },
  {
   "cell_type": "code",
   "execution_count": 5,
   "metadata": {},
   "outputs": [
    {
     "name": "stdin",
     "output_type": "stream",
     "text": [
      "Give a name:  John\n",
      "Give your age:  25\n"
     ]
    },
    {
     "name": "stdout",
     "output_type": "stream",
     "text": [
      "{'name': 'John', 'age': '25'}\n"
     ]
    }
   ],
   "source": [
    "name, age = input(\"Give a name: \"), input(\"Give your age: \")\n",
    "data = {\n",
    "    'name':name,\n",
    "    'age':age\n",
    "}\n",
    "print(data)"
   ]
  },
  {
   "cell_type": "code",
   "execution_count": 12,
   "metadata": {},
   "outputs": [
    {
     "name": "stdout",
     "output_type": "stream",
     "text": [
      "cheese\n",
      "sausage\n",
      "peppers\n"
     ]
    }
   ],
   "source": [
    "pizza = {\n",
    "    'ingredients': ['cheese', 'sausage', 'peppers']\n",
    "}\n",
    "for i in pizza['ingredients']:\n",
    "    print(i)"
   ]
  },
  {
   "cell_type": "code",
   "execution_count": 20,
   "metadata": {},
   "outputs": [
    {
     "name": "stdin",
     "output_type": "stream",
     "text": [
      "Give us a name:  John\n",
      "Give as your address:  Street Horner Avn.\n",
      "Give us your number:  23\n"
     ]
    },
    {
     "name": "stdout",
     "output_type": "stream",
     "text": [
      "name: John\n",
      "address: Street Horner Avn.\n",
      "number: 23\n"
     ]
    }
   ],
   "source": [
    "user_data = {}\n",
    "name, address, number = input('Give us a name: '), input('Give as your address: '), input('Give us your number: ')\n",
    "user_data['name'] = name\n",
    "user_data['address'] = address\n",
    "user_data['number'] = number\n",
    "for key, value in user_data.items():\n",
    "    print(\"{}: {}\".format(key, value))"
   ]
  },
  {
   "cell_type": "markdown",
   "metadata": {},
   "source": [
    "**Tuples sets and frozensets**"
   ]
  },
  {
   "cell_type": "code",
   "execution_count": 27,
   "metadata": {},
   "outputs": [
    {
     "name": "stdin",
     "output_type": "stream",
     "text": [
      "Give a bank account or (q) to quit:  123456\n",
      "Give a bank account or (q) to quit:  312456\n",
      "Give a bank account or (q) to quit:  241356\n",
      "Give a bank account or (q) to quit:  712345\n",
      "Give a bank account or (q) to quit:  q\n"
     ]
    },
    {
     "name": "stdout",
     "output_type": "stream",
     "text": [
      "frozenset({'712345', '123456', '312456', '241356'})\n"
     ]
    }
   ],
   "source": [
    "accounts = []\n",
    "save = True\n",
    "while save:\n",
    "    bank_account = input(\"Give a bank account or (q) to quit: \")\n",
    "    if bank_account == 'q':\n",
    "        if len(accounts) > 0:\n",
    "            bnk_fset = frozenset(accounts)\n",
    "            print(bnk_fset)\n",
    "            save = False\n",
    "        save = False\n",
    "    else:\n",
    "        accounts.append(bank_account)        "
   ]
  },
  {
   "cell_type": "code",
   "execution_count": 28,
   "metadata": {},
   "outputs": [
    {
     "name": "stdout",
     "output_type": "stream",
     "text": [
      "{10, 3, 4, 7}\n"
     ]
    }
   ],
   "source": [
    "nums = [3,4,3,7,10]\n",
    "unq_nms = set(nums)\n",
    "print(unq_nms)"
   ]
  },
  {
   "cell_type": "markdown",
   "metadata": {},
   "source": [
    "## Data Collection Differences"
   ]
  },
  {
   "cell_type": "markdown",
   "metadata": {},
   "source": [
    "|Data Collection|Ordered|Iterable|Unique|Immutable|Mutable|\n",
    "|:-------------:|:-----:|:------:|:----:|:-------:|:-----:|\n",
    "| List          |Yes    | Yes    | No        | No      | Yes   |\n",
    "| Dictionary    |No     | Yes    | Key Only  | Keys Only     | Values Only   |\n",
    "| Tuple         |Yes    | Yes    | No   | Yes     | No    |\n",
    "| Set           |No     | Yes    | Yes  | No      | Yes   |\n",
    "| Frozenset     |No    | Yes    | Yes  | Yes    | No  |"
   ]
  },
  {
   "cell_type": "markdown",
   "metadata": {},
   "source": [
    "## Reading Writing Files"
   ]
  },
  {
   "cell_type": "code",
   "execution_count": 2,
   "metadata": {},
   "outputs": [
    {
     "name": "stdin",
     "output_type": "stream",
     "text": [
      "What is your favourite number?  7\n"
     ]
    }
   ],
   "source": [
    "user_number = input(\"What is your favourite number? \")\n",
    "with open(\"test.txt\", mode=\"w\") as f:\n",
    "    f.write(user_number)"
   ]
  },
  {
   "cell_type": "code",
   "execution_count": 5,
   "metadata": {},
   "outputs": [],
   "source": [
    "import csv\n",
    "data = {\n",
    "    'name': ['Dave', 'Dennis', 'Peter', 'Jess'],\n",
    "    'language':['Python', 'C', 'Java', 'Python']\n",
    "}\n",
    "with open(\"test.csv\", mode=\"w\", newline=\"\") as f:\n",
    "    writer = csv.writer(f)\n",
    "    writer.writerow(data.keys())\n",
    "    writer.writerows(zip(*data.values())) #We choose keys for headers and values as rows so use the zip() with writer()"
   ]
  },
  {
   "cell_type": "markdown",
   "metadata": {},
   "source": [
    "## Exercise 5 - User Database using CSV Files"
   ]
  },
  {
   "cell_type": "markdown",
   "metadata": {},
   "source": [
    "**Now lets play a little with what we have already seen**"
   ]
  },
  {
   "cell_type": "code",
   "execution_count": 10,
   "metadata": {},
   "outputs": [
    {
     "name": "stdout",
     "output_type": "stream",
     "text": [
      "Thanks using our software!\n"
     ]
    }
   ],
   "source": [
    "import csv\n",
    "from IPython.display import clear_output\n",
    "\n",
    "\n",
    "def registerUser():\n",
    "    with open(\"users.csv\", mode=\"a\", newline=\"\") as f:\n",
    "        writer = csv.writer(f, delimiter=\",\")\n",
    "        print(\"Register with your personal info\")\n",
    "        email = input(\"E-mail: \")\n",
    "        password = input(\"Password: \")\n",
    "        password2 = input(\"Re-type password: \")\n",
    "        clear_output()\n",
    "        if password == password2:\n",
    "            writer.writerow([email, password])\n",
    "            print(\"You are registered!\")\n",
    "        else:\n",
    "            print(\"Something went wrong. Try again.\")\n",
    "\n",
    "    \n",
    "def loginUser():\n",
    "    print(\"Login with your personal info\")\n",
    "    email = input(\"E-mail: \")\n",
    "    password = input(\"Password: \")\n",
    "    clear_output()\n",
    "    with open(\"users.csv\", mode=\"r\") as f:\n",
    "        reader = csv.reader(f, delimiter=\",\")\n",
    "        for row in reader:\n",
    "            if row == [email, password]:\n",
    "                print(\"You are logged in!\")\n",
    "                return True\n",
    "    print(\"Something went wrong, try again.\")\n",
    "    return False\n",
    "\n",
    "\n",
    "active = True\n",
    "logged_in = False\n",
    "\n",
    "while active:\n",
    "    if logged_in:\n",
    "        print(\"1. Logout\\n2. Quit\")\n",
    "    else:\n",
    "        print(\"1. Login\\n2. Register\\n3. Quit\")\n",
    "    choice = input(\"What would you like to do? \").lower()\n",
    "    clear_output()\n",
    "    if (choice == \"register\" or choice == \"2\") and logged_in == False:\n",
    "        registerUser()\n",
    "    elif (choice == \"login\" or choice == \"1\") and logged_in == False:\n",
    "        logged_in = loginUser()\n",
    "    elif choice == \"quit\" or choice == \"3\":\n",
    "        active = False\n",
    "        print(\"Thanks using our software!\")\n",
    "    elif (choice == \"logout\" or choice == \"1\") and logged_in == True:\n",
    "        logged_in = False\n",
    "        print(\"You are logged out.\")\n",
    "    else:\n",
    "        print(\"Sorry, please try again!\")"
   ]
  },
  {
   "cell_type": "code",
   "execution_count": null,
   "metadata": {},
   "outputs": [],
   "source": []
  }
 ],
 "metadata": {
  "kernelspec": {
   "display_name": "Python 3 (ipykernel)",
   "language": "python",
   "name": "python3"
  },
  "language_info": {
   "codemirror_mode": {
    "name": "ipython",
    "version": 3
   },
   "file_extension": ".py",
   "mimetype": "text/x-python",
   "name": "python",
   "nbconvert_exporter": "python",
   "pygments_lexer": "ipython3",
   "version": "3.10.12"
  }
 },
 "nbformat": 4,
 "nbformat_minor": 4
}
